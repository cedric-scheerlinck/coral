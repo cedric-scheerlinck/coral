{
 "cells": [
  {
   "cell_type": "code",
   "execution_count": 1,
   "id": "bc9fed95-d21b-479c-9121-3fe597cc4198",
   "metadata": {},
   "outputs": [
    {
     "data": {
      "application/javascript": "IPython.notebook.set_autosave_interval(10000)"
     },
     "metadata": {},
     "output_type": "display_data"
    },
    {
     "name": "stdout",
     "output_type": "stream",
     "text": [
      "Autosaving every 10 seconds\n"
     ]
    }
   ],
   "source": [
    "%matplotlib qt\n",
    "%autosave 10\n",
    "    \n",
    "from pathlib import Path\n",
    "\n",
    "import cv2\n",
    "import matplotlib.pyplot as plt\n",
    "import numpy as np\n",
    "import tifffile\n",
    "from PIL import Image\n",
    "from roifile import ImagejRoi\n",
    "from skimage.draw import polygon\n"
   ]
  },
  {
   "cell_type": "code",
   "execution_count": 7,
   "id": "14b8acaf-dd4b-4f1f-8871-47a47ff38662",
   "metadata": {},
   "outputs": [],
   "source": [
    "NEEDS_ROTATE = {\n",
    "    'T1_22.12.06.tif',\n",
    "}"
   ]
  },
  {
   "cell_type": "code",
   "execution_count": 8,
   "id": "491b99b2-f386-4ff8-9ac7-13918bf0546e",
   "metadata": {},
   "outputs": [
    {
     "name": "stdout",
     "output_type": "stream",
     "text": [
      "Image shape: (14602, 14847, 4)\n"
     ]
    }
   ],
   "source": [
    "# Path to the large TIFF image\n",
    "base_path = Path('/home/cedric/coral')\n",
    "base_path = Path('/media/cedric/Storage1/coral_data')\n",
    "image_path = base_path / 'T1_22.12.06.tif'\n",
    "image_path = \"/media/cedric/Storage1/coral_data/T1_23.02.03.tif\"\n",
    "base_path = Path(\"/media/cedric/Storage1/coral_data/T1_23.02.03\")\n",
    "image_path = base_path / \"T1_23.02.03.tif\"\n",
    "# Load the image using tifffile\n",
    "full_image = tifffile.imread(image_path)\n",
    "if image_path.name in NEEDS_ROTATE:\n",
    "    full_image = cv2.rotate(full_image, cv2.ROTATE_90_COUNTERCLOCKWISE)\n",
    "print(f\"Image shape: {full_image.shape}\")\n",
    "\n",
    "h, w, _ = full_image.shape\n"
   ]
  },
  {
   "cell_type": "code",
   "execution_count": 9,
   "id": "1b134cdb-3791-41da-a41d-373940592602",
   "metadata": {},
   "outputs": [],
   "source": [
    "def create_mask_from_roi(roi_files, image_shape):\n",
    "    # Initialize mask as a 2D array\n",
    "    mask = np.zeros(image_shape[:2], dtype=np.uint8)\n",
    "    height, width = image_shape[:2]\n",
    "\n",
    "    for roi_file in roi_files:\n",
    "        roi = ImagejRoi.fromfile(roi_file)\n",
    "        \n",
    "        # Get the coordinates of the ROI\n",
    "        coords = roi.coordinates()\n",
    "        if coords is None or len(coords) == 0:\n",
    "            continue  # Skip if no coordinates\n",
    "        \n",
    "        # Convert coordinates to NumPy array\n",
    "        coords = np.array(coords, dtype=np.intp)\n",
    "        x_coords = coords[:, 0]\n",
    "        y_coords = coords[:, 1]\n",
    "        \n",
    "        # Ensure coordinates are within image bounds\n",
    "        if x_coords.max() >= width or y_coords.max() >= height:\n",
    "            print(f\"Coordinates exceed image dimensions in {roi_file}\")\n",
    "            continue  # Skip or adjust the coordinates\n",
    "        \n",
    "        # Fill the polygon in the mask\n",
    "        rr, cc = polygon(y_coords, x_coords, shape=mask.shape)\n",
    "        mask[rr, cc] = 1  # Assign a label value (e.g., 1)\n",
    "    \n",
    "    return mask\n"
   ]
  },
  {
   "cell_type": "code",
   "execution_count": 10,
   "id": "85069061-49d4-4c35-ad61-bc4a4b8e2633",
   "metadata": {},
   "outputs": [
    {
     "name": "stdout",
     "output_type": "stream",
     "text": [
      "Mask created successfully!\n"
     ]
    }
   ],
   "source": [
    "# Directory containing ROI files\n",
    "roi_dir = base_path / 'roi/'\n",
    "\n",
    "# List of ROI files\n",
    "roi_files = sorted(roi_dir.glob('*.roi'))\n",
    "\n",
    "# Create the mask\n",
    "full_mask = create_mask_from_roi(roi_files, full_image.shape)\n",
    "print(\"Mask created successfully!\")\n"
   ]
  },
  {
   "cell_type": "code",
   "execution_count": 14,
   "id": "3a83725d",
   "metadata": {},
   "outputs": [
    {
     "name": "stdout",
     "output_type": "stream",
     "text": [
      "Tiles saved to /media/cedric/Storage1/coral_data/T1_23.02.03/test_dataset2/train/T1_23.02.03\n"
     ]
    }
   ],
   "source": [
    "def create_and_save_tiles(image, tile_size, output_dir):\n",
    "    h, w, _ = image.shape\n",
    "    output_dir = Path(output_dir)\n",
    "    output_dir.mkdir(parents=True, exist_ok=True)\n",
    "\n",
    "    count = 0\n",
    "    for i in range(0, h, tile_size):\n",
    "        for j in range(0, w, tile_size):\n",
    "            # Extract tile from image and mask\n",
    "            tile_img = image[i:i+tile_size, j:j+tile_size]\n",
    "\n",
    "            # Skip tiles that are smaller than the desired size\n",
    "            if tile_img.shape[:2] != (tile_size, tile_size):\n",
    "                continue\n",
    "\n",
    "            # use cv2 to save lossless as png   \n",
    "            # convert to uint8 bgr\n",
    "            tile_img = cv2.cvtColor(tile_img, cv2.COLOR_RGBA2BGRA).astype(np.uint8)\n",
    "            cv2.imwrite(output_dir / f'{count:05d}.png', tile_img)\n",
    "            count += 1\n",
    "\n",
    "    print(f\"Tiles saved to {output_dir}\")\n",
    "\n",
    "# Parameters\n",
    "tile_size = 1024  # Size of each tile (NxN)\n",
    "# output_directory = base_path / 'dataset' / 'T1_22.12.06'\n",
    "output_directory = base_path / 'test_dataset2' / 'train' / 'T1_23.02.03'\n",
    "\n",
    "\n",
    "# replace the 4th channel with the mask\n",
    "full_image[:, :, 3] = (1-full_mask) * 255\n",
    "\n",
    "# Create and save tiles\n",
    "create_and_save_tiles(full_image, tile_size, output_directory)\n"
   ]
  },
  {
   "cell_type": "code",
   "execution_count": 11,
   "id": "35507a58",
   "metadata": {},
   "outputs": [],
   "source": [
    "def draw_alpha_as_contours(tile_img):\n",
    "    # note tile_img is RGBA\n",
    "    # Ensure the image is contiguous and in the correct format\n",
    "    tile_img = np.ascontiguousarray(tile_img)\n",
    "    \n",
    "    # Extract alpha channel\n",
    "    alpha_channel = 255 - tile_img[:, :, 3]\n",
    "    \n",
    "    # Find contours in the alpha channel\n",
    "    contours, hierarchy = cv2.findContours(alpha_channel, cv2.RETR_EXTERNAL, cv2.CHAIN_APPROX_SIMPLE)\n",
    "    \n",
    "    # Draw contours as outline hollow\n",
    "    tile_img = tile_img[:, :, :3].copy()\n",
    "    cv2.drawContours(tile_img, contours, -1, (255, 255, 255), 1)\n",
    "    \n",
    "    return tile_img\n",
    "\n",
    "# Load and process the tile\n",
    "# tile_img = Image.open(output_directory / '00042.png')\n",
    "# tile_img = Image.open(output_directory / '00131.png')\n",
    "images = list(output_directory.glob('*.png'))\n",
    "for image_path in images:\n",
    "    tile_img = Image.open(image_path)\n",
    "    tile_img = np.array(tile_img).astype(np.uint8)\n",
    "    alpha = 255 - tile_img[:, :, 3]\n",
    "    if alpha.max() > 0:\n",
    "        tile_img = draw_alpha_as_contours(tile_img)\n",
    "\n",
    "        # Visualize the tile with the outlined alpha channel\n",
    "        plt.figure(figsize=(10, 10))\n",
    "        plt.imshow(tile_img)\n",
    "        plt.axis('off')\n",
    "        plt.title(f'{image_path.name} with Outlined Alpha Channel')\n",
    "        plt.show()\n",
    "\n"
   ]
  },
  {
   "cell_type": "code",
   "execution_count": 29,
   "id": "1439e9c2-04fa-4105-81b0-09d34362f4df",
   "metadata": {},
   "outputs": [],
   "source": [
    "start_row = int(3/4*h)\n",
    "end_row = -1\n",
    "start_col = 0\n",
    "end_col = int(1/4*w)\n",
    "\n",
    "image = full_image[start_row:end_row, start_col:end_col]\n",
    "mask = full_mask[start_row:end_row, start_col:end_col]"
   ]
  },
  {
   "cell_type": "code",
   "execution_count": 31,
   "id": "2e5f1670-457b-487e-8571-77f43895db0a",
   "metadata": {},
   "outputs": [],
   "source": [
    "import cv2\n",
    "import matplotlib.pyplot as plt\n",
    "import numpy as np\n",
    "\n",
    "# Assuming 'image' and 'mask' are already defined\n",
    "# 'image' shape: (height, width, channels)\n",
    "# 'mask' shape: (height, width), values 0 or 1\n",
    "\n",
    "# Convert the mask to uint8 type with values 0 and 255\n",
    "mask_uint8 = (mask * 255).astype(np.uint8)\n",
    "\n",
    "# Find contours in the mask\n",
    "contours, hierarchy = cv2.findContours(mask_uint8, cv2.RETR_EXTERNAL, cv2.CHAIN_APPROX_SIMPLE)\n",
    "\n",
    "# Create a copy of the image to draw contours on\n",
    "image_with_contours = image.copy()\n",
    "\n",
    "# Define the contour color (e.g., blue) and thickness\n",
    "contour_color = (0, 0, 255)  # BGR format for OpenCV (blue color)\n",
    "thickness = 2  # Thickness of the contour lines\n",
    "\n",
    "# Draw contours on the image\n",
    "cv2.drawContours(image_with_contours, contours, -1, contour_color, thickness)\n",
    "\n",
    "# Display the result\n",
    "plt.figure(figsize=(12, 12))\n",
    "plt.imshow(image_with_contours)\n",
    "plt.title('Image with Mask Outlines')\n",
    "plt.axis('off')\n",
    "plt.show()\n"
   ]
  },
  {
   "cell_type": "code",
   "execution_count": null,
   "id": "5cf56d1b-9b07-4847-a50a-a3e99111353d",
   "metadata": {},
   "outputs": [],
   "source": []
  }
 ],
 "metadata": {
  "kernelspec": {
   "display_name": "Python 3 (ipykernel)",
   "language": "python",
   "name": "python3"
  },
  "language_info": {
   "codemirror_mode": {
    "name": "ipython",
    "version": 3
   },
   "file_extension": ".py",
   "mimetype": "text/x-python",
   "name": "python",
   "nbconvert_exporter": "python",
   "pygments_lexer": "ipython3",
   "version": "3.12.3"
  }
 },
 "nbformat": 4,
 "nbformat_minor": 5
}
